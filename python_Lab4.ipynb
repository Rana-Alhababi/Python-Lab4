{
  "nbformat": 4,
  "nbformat_minor": 0,
  "metadata": {
    "colab": {
      "provenance": []
    },
    "kernelspec": {
      "name": "python3",
      "display_name": "Python 3"
    },
    "language_info": {
      "name": "python"
    }
  },
  "cells": [
    {
      "cell_type": "markdown",
      "source": [
        "* Ask the user to enter his name.\n",
        "* Ask the user to enter his age.\n",
        "* If his age is between 0 and 6, then print \"Kid\"\n",
        "* Else if his age is under 0, then print \"Wrong age value, you can not enter value 0 or less.\"\n",
        "* Else if the age is greater than 6, do the following :-\n",
        "An empty variable called total_cost with initial value 0.\n",
        "* Ask him to enter the number of items that he wants to buy.\n",
        "* for each item, do the following :-\n",
        "* Ask him to enter the item name.\n",
        "* Ask him to enter the item price.\n",
        "* Ask him to enter the item quantity.\n",
        "* You need to calculate the item total cost by multiplying the quantity by the price and name it as item_cost.\n",
        "* Then, you need to update the total_cost variable by adding the value of item_cost.\n",
        "* Print the item_cost and the total_cost.\n",
        "Now, if the total_cost is greater than 200, make a discount by 20% for this special customer!!\n",
        "* Do not forget to handle any unexpected inputs from the users (Just cast the input values and catch the errors!!).\n",
        "* Finally, ask the user if he want to repeat the same process from step 1 until 6 or not, Use the loops, but one of them ;)\n",
        "Note : The ask is after catching the errors.\n",
        "\n",
        "\n"
      ],
      "metadata": {
        "id": "_U2PWuhxf6_E"
      }
    },
    {
      "cell_type": "code",
      "execution_count": null,
      "metadata": {
        "colab": {
          "base_uri": "https://localhost:8080/"
        },
        "id": "E-iU_ml6fhUA",
        "outputId": "5e483c85-1d03-4309-e7ad-b7f5253f080e"
      },
      "outputs": [
        {
          "name": "stdout",
          "output_type": "stream",
          "text": [
            "Enter your name: Rana\n",
            "Enter your age: 0\n",
            "Kid\n",
            "Do you want to repeat the process? (yes/no): yes\n",
            "Enter your name: rana\n",
            "Enter your age: 0\n",
            "Kid\n",
            "Do you want to repeat the process? (yes/no): no\n"
          ]
        }
      ],
      "source": [
        "while True:\n",
        "    try:\n",
        "        name = input(\"Enter your name: \")\n",
        "        age = int(input(\"Enter your age: \"))\n",
        "\n",
        "        if age >= 0 and age <= 6:\n",
        "            print(\"Kid\")\n",
        "        elif age < 0:\n",
        "            print(\"Wrong age value, you cannot enter a value of 0 or less.\")\n",
        "        else:\n",
        "            total_cost = 0\n",
        "            num_items = int(input(\"Enter the number of items you want to buy: \"))\n",
        "\n",
        "            for _ in range(num_items):\n",
        "                item_name = input(\"Enter the item name: \")\n",
        "                item_price = float(input(\"Enter the item price: \"))\n",
        "                item_quantity = int(input(\"Enter the item quantity: \"))\n",
        "\n",
        "                item_cost = item_price * item_quantity\n",
        "                total_cost += item_cost\n",
        "\n",
        "                print(\"Item cost:\", item_cost)\n",
        "                print(\"Total cost:\", total_cost)\n",
        "\n",
        "            if total_cost > 200:\n",
        "                total_cost *= 0.8  # Apply 20% discount\n",
        "\n",
        "            print(\"Final total cost:\", total_cost)\n",
        "\n",
        "        repeat = input(\"Do you want to repeat the process? (yes/no): \")\n",
        "        if repeat.lower() != \"yes\":\n",
        "            break\n",
        "\n",
        "    except ValueError:\n",
        "        print(\"Invalid input. Please enter a valid value.\")"
      ]
    }
  ]
}